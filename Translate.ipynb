{
 "cells": [
  {
   "cell_type": "markdown",
   "metadata": {},
   "source": [
    "### Primero se instala la librería deep-translator"
   ]
  },
  {
   "cell_type": "code",
   "execution_count": null,
   "metadata": {},
   "outputs": [],
   "source": [
    "pip install deep-translator"
   ]
  },
  {
   "cell_type": "markdown",
   "metadata": {},
   "source": [
    "### Segundo se ejecuta el código que permite traducir los documentos"
   ]
  },
  {
   "cell_type": "code",
   "execution_count": null,
   "metadata": {},
   "outputs": [],
   "source": [
    "import nbformat\n",
    "from deep_translator import GoogleTranslator\n",
    "\n",
    "def translate_notebook(input_file, output_file, target_lang=\"es\"):\n",
    "    # Cargar el notebook\n",
    "    with open(input_file, \"r\", encoding=\"utf-8\") as f:\n",
    "        notebook = nbformat.read(f, as_version=4)\n",
    "    \n",
    "    translator = GoogleTranslator(source=\"auto\", target=target_lang)\n",
    "    \n",
    "    # Traducir celdas de Markdown\n",
    "    for cell in notebook.cells:\n",
    "        if cell.cell_type == \"markdown\":\n",
    "            cell.source = translator.translate(cell.source)\n",
    "    \n",
    "    # Guardar el notebook traducido\n",
    "    with open(output_file, \"w\", encoding=\"utf-8\") as f:\n",
    "        nbformat.write(notebook, f)\n",
    "    \n",
    "    print(f\"Traducción completada. Archivo guardado como {output_file}\")\n",
    "\n",
    "# Uso del script\n",
    "input_notebook = \"input.ipynb\"\n",
    "output_notebook = \"output.ipynb\"\n",
    "translate_notebook(input_notebook, output_notebook, target_lang=\"es\")"
   ]
  }
 ],
 "metadata": {
  "kernelspec": {
   "display_name": "Python 3",
   "language": "python",
   "name": "python3"
  },
  "language_info": {
   "codemirror_mode": {
    "name": "ipython",
    "version": 3
   },
   "file_extension": ".py",
   "mimetype": "text/x-python",
   "name": "python",
   "nbconvert_exporter": "python",
   "pygments_lexer": "ipython3",
   "version": "3.12.1"
  }
 },
 "nbformat": 4,
 "nbformat_minor": 2
}
